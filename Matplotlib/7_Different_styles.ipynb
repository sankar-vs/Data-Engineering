{
 "metadata": {
  "language_info": {
   "codemirror_mode": {
    "name": "ipython",
    "version": 3
   },
   "file_extension": ".py",
   "mimetype": "text/x-python",
   "name": "python",
   "nbconvert_exporter": "python",
   "pygments_lexer": "ipython3",
   "version": "3.8.3"
  },
  "orig_nbformat": 2,
  "kernelspec": {
   "name": "python383jvsc74a57bd03a4fd976e718bd22682eec32fd5ef4d444811251b858f4eb008626e207ce56e7",
   "display_name": "Python 3.8.3 32-bit"
  },
  "metadata": {
   "interpreter": {
    "hash": "3a4fd976e718bd22682eec32fd5ef4d444811251b858f4eb008626e207ce56e7"
   }
  }
 },
 "nbformat": 4,
 "nbformat_minor": 2,
 "cells": [
  {
   "cell_type": "code",
   "execution_count": null,
   "metadata": {},
   "outputs": [],
   "source": [
    "'''\n",
    "@Author: Sankar\n",
    "@Date: 2021-04-16 08:21:25\n",
    "@Last Modified by: Sankar\n",
    "@Last Modified time: 2021-04-20 08:55:09\n",
    "@Title : Matplotlib_Python-7\n",
    "'''"
   ]
  },
  {
   "cell_type": "code",
   "execution_count": null,
   "metadata": {},
   "outputs": [],
   "source": [
    "'''\n",
    "Write a Python program to plot two or more lines with different styles.\n",
    "'''"
   ]
  },
  {
   "cell_type": "code",
   "execution_count": null,
   "metadata": {},
   "outputs": [],
   "source": [
    "from matplotlib import pyplot as plt\n",
    "\n",
    "x1 = [1,2,3,4,5]\n",
    "y1 = [2,5,4,7,6]\n",
    "plt.plot(x1,y1,color='green',linewidth=3,label='line1',linestyle='dotted')\n",
    "\n",
    "x2 = [1,2,3,4,5]\n",
    "y2 = [4,6,9,8,10]\n",
    "plt.plot(x2,y2,color='red',linewidth=5,label='line2',linestyle='dashed')\n",
    "\n",
    "plt.xlabel('x-axis')\n",
    "plt.ylabel('y-axis')\n",
    "plt.title('Two or more line graphs on same Plot')\n",
    "plt.legend()\n",
    "plt.show()"
   ]
  },
  {
   "cell_type": "code",
   "execution_count": null,
   "metadata": {},
   "outputs": [],
   "source": []
  }
 ]
}