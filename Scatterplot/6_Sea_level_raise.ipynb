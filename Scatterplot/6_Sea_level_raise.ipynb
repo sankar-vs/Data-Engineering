{
 "metadata": {
  "language_info": {
   "codemirror_mode": {
    "name": "ipython",
    "version": 3
   },
   "file_extension": ".py",
   "mimetype": "text/x-python",
   "name": "python",
   "nbconvert_exporter": "python",
   "pygments_lexer": "ipython3",
   "version": 3
  },
  "orig_nbformat": 2
 },
 "nbformat": 4,
 "nbformat_minor": 2,
 "cells": [
  {
   "cell_type": "code",
   "execution_count": null,
   "metadata": {},
   "outputs": [],
   "source": [
    "#### @Author: Sankar\n",
    "#### @Date: 2021-04-19 12:25:25\n",
    "#### @Last Modified by: Sankar\n",
    "#### @Last Modified time: 2021-04-19 12:35:09\n",
    "#### @Title : Sactterplot_Python-6"
   ]
  },
  {
   "cell_type": "code",
   "execution_count": null,
   "metadata": {},
   "outputs": [],
   "source": [
    "##### Write a Python program to draw a scatter plot to find sea level rise in past 100 years."
   ]
  }
 ]
}